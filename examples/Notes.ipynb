{
 "cells": [
  {
   "cell_type": "markdown",
   "metadata": {},
   "source": [
    "# DMD notes\n",
    "\n",
    "2019_01_14 (V1): IBS\n",
    "\n",
    "These notes are here to help seed discussion about DMD's and potential sources of aberation."
   ]
  },
  {
   "cell_type": "code",
   "execution_count": 11,
   "metadata": {},
   "outputs": [],
   "source": [
    "import matplotlib.pyplot as pyplot\n",
    "import matplotlib.gridspec as gridspec\n",
    "\n",
    "import numpy as np"
   ]
  },
  {
   "cell_type": "markdown",
   "metadata": {},
   "source": [
    "In all of the below I will refer to the figure\n",
    "\n",
    "![title](Schematic.png)\n",
    "\n",
    "In this figure the symbol $f(x-jd)$ describes optical electric field pattern that the $j$-th mirror alone would produce, and $g_j\\in \\{0,1\\}$ defines if the mirror is in the on or off state.  Because the mirror is at an angle, this is not quite a simple window function, but approximatally it is\n",
    "$$\n",
    "f(x) \\approx \\begin{cases}\n",
    "    1,& \\text{for } x\\in(-d/2,d/2] \\\\\n",
    "    0,              & \\text{otherwise}\n",
    "\\end{cases}.\n",
    "$$"
   ]
  },
  {
   "cell_type": "markdown",
   "metadata": {},
   "source": [
    "To get a basic idea of what to expect, lets consider the far-field pattern for two cases: (1) With just the $j$-th mirror on and the others off; (2) All the mirrors on $g_j = 1$.  \n",
    "\n",
    "The far field pattern approximates the Fourier transform of the field, so for case (1) we find,\n",
    "$$\n",
    "\\tilde E_j(k) = E_0 \\tilde f(k) \\exp[i (k +  k_0 \\sin 2\\theta) j d].\n",
    "$$\n",
    "This contains the mode-shape of a single mirror, with a phase term associated with the displacement of the mirror, and a second phase term from the DMD.  I guess that this looks simple enough, but when we insert the sum over $j$ (which we take to be an infinite sum), we get \n",
    "$$\n",
    "\\tilde E_{\\rm on}(k) = E_0 \\tilde f(k) \\sum_j \\exp[i (k +  k_0 \\sin 2\\theta) j d].\n",
    "$$\n",
    "The sum evaluates to\n",
    "$$\n",
    "\\sum_j \\exp[i (k +  k_0 \\sin 2\\theta) j d] = \\sum_n \\delta(k d - dk_0 \\sin 2\\theta - 2 \\pi n),\n",
    "$$\n",
    "i.e., an array of Dirac delta functions spaced by $\\delta k = 2 \\pi / d$, and shifted by $\\kappa = dk_0 \\sin 2\\theta$.  \n",
    "\n",
    "This is the diffraction pattern from the DMD mirror array centered at $k=dk_0 \\sin 2\\theta$, shaped by the mode field function of a single mirror centered at $k=0$.  This then provides the origin of potential aborations since the indivual mirror distribution is symmetric about $k=0$ while the information about the mirror distribution is centered on a place in $\\tilde f(\\kappa)$ that contains a gradient."
   ]
  },
  {
   "cell_type": "markdown",
   "metadata": {},
   "source": [
    "## Lets see what this all means!\n",
    "\n",
    "I will compose some python scripts the model different values of $\\kappa$ for a very simple step function pattern"
   ]
  },
  {
   "cell_type": "code",
   "execution_count": 171,
   "metadata": {},
   "outputs": [
    {
     "data": {
      "image/png": "[encoded data removed]",
      "text/plain": [
       "<Figure size 576x288 with 2 Axes>"
      ]
     },
     "metadata": {
      "needs_background": "light"
     },
     "output_type": "display_data"
    }
   ],
   "source": [
    "# Total size of grid\n",
    "pts = 2048\n",
    "\n",
    "# Single mirror size (must divide grid size)\n",
    "pts_mirror = 16\n",
    "assert pts % pts_mirror == 0\n",
    "\n",
    "# Number of mirrors (must be even)\n",
    "num_mirrors = pts // pts_mirror\n",
    "assert num_mirrors % 2 == 0\n",
    "\n",
    "# kappa parameter (zero to 1.0 in these units)\n",
    "kappa = 0.5\n",
    "\n",
    "# construct simple pattern of mirrors\n",
    "jvals = np.arange(-num_mirrors//2, num_mirrors//2)\n",
    "g_0 = np.where(np.abs(jvals) < num_mirrors / 8, 0.0, 1.0)\n",
    "# g_0 = np.where(np.abs(jvals) == 0, 1.0, 0.0)\n",
    "# g_0.fill(1.0)\n",
    "g_0.astype(complex)\n",
    "\n",
    "# convert this to the pattern of fields\n",
    "xvals = np.arange(0, pts)\n",
    "mirror_map = xvals // pts_mirror\n",
    "phase_map = np.exp(2.0j*np.pi*mirror_map*kappa)\n",
    "f_0 = phase_map * g_0[mirror_map]\n",
    "f_single = np.where(mirror_map == 0, 1.0, 0.0)\n",
    "\n",
    "#\n",
    "# Compute the Fourier transform and mask\n",
    "#\n",
    "\n",
    "kvals= np.fft.fftfreq(f_0.shape[0])\n",
    "\n",
    "f_0_FT = np.fft.fftn(f_0)\n",
    "f_0_PSD = np.abs(f_0_FT)**2\n",
    "\n",
    "f_single_FT = np.fft.fftn(f_single)\n",
    "f_single_PSD = np.abs(f_single_FT)**2\n",
    "\n",
    "# Aperture\n",
    "mask = np.where(np.abs(kvals*pts_mirror - kappa) < 0.5, 1.0, 0.0)\n",
    "\n",
    "f_0_FT_mask = f_0_FT*mask\n",
    "f_0_mask_PSD = np.abs(f_0_FT_mask)**2\n",
    "\n",
    "# Roll the data so it is \"centered\"\n",
    "# f_0_FT_mask = np.roll(f_0_FT_mask, -int(kappa*pts / pts_mirror) )\n",
    "# f_0_mask_PSD = np.roll(f_0_mask_PSD, -int(kappa*pts / pts_mirror) )\n",
    "\n",
    "f_0_mask = np.fft.ifftn(f_0_FT_mask)\n",
    "\n",
    "#\n",
    "# Display data\n",
    "#\n",
    "\n",
    "fig = pyplot.figure(1,figsize=(8,4))\n",
    "gs = gridspec.GridSpec(1, 2)\n",
    "gs.update(left=0.1, right=0.95, top=0.92, bottom=0.15, \n",
    "          hspace=0.7, wspace=0.5)\n",
    "\n",
    "ax = fig.add_subplot(gs[0,0])\n",
    "# ax.plot(xvals, np.abs(f_0)**2, color='k'  )\n",
    "ax.plot(xvals, np.abs(f_0_mask)**2, color='r'  )\n",
    "# ax.set_xlim(1000, 1060)\n",
    "\n",
    "ax = fig.add_subplot(gs[0,1])\n",
    "ax.plot(kvals, f_0_mask_PSD**0.25, \".\", color='r')\n",
    "ax.plot(kvals, f_single_PSD**0.25, \"-\", color='k')\n",
    "ax.set_xlim(-2/pts_mirror, 2/pts_mirror)\n",
    "\n",
    "pass"
   ]
  },
  {
   "cell_type": "code",
   "execution_count": null,
   "metadata": {},
   "outputs": [],
   "source": []
  }
 ],
 "metadata": {
  "kernelspec": {
   "display_name": "Python 3",
   "language": "python",
   "name": "python3"
  },
  "language_info": {
   "codemirror_mode": {
    "name": "ipython",
    "version": 3
   },
   "file_extension": ".py",
   "mimetype": "text/x-python",
   "name": "python",
   "nbconvert_exporter": "python",
   "pygments_lexer": "ipython3",
   "version": "3.6.10"
  }
 },
 "nbformat": 4,
 "nbformat_minor": 4
}
